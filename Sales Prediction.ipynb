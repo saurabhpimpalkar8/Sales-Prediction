{
 "cells": [
  {
   "cell_type": "markdown",
   "id": "f650a767",
   "metadata": {},
   "source": [
    "# FicZon Inc Sales Prediction:"
   ]
  },
  {
   "cell_type": "markdown",
   "id": "8f61adf7",
   "metadata": {},
   "source": [
    "## PROJECT GOAL:\n",
    "1. Data exploration insights – Sales effectiveness.\n",
    "2. ML model to predict the Lead Category (High Potential , Low Potential)"
   ]
  },
  {
   "cell_type": "code",
   "execution_count": 1,
   "id": "fa145eaf",
   "metadata": {},
   "outputs": [],
   "source": [
    "# Importing Essential Libraries\n",
    "import numpy as np\n",
    "import pandas as pd\n",
    "import matplotlib.pyplot as plt\n",
    "%matplotlib inline\n",
    "import seaborn as sns"
   ]
  },
  {
   "cell_type": "code",
   "execution_count": 2,
   "id": "288785f0",
   "metadata": {},
   "outputs": [],
   "source": [
    "from sqlalchemy import create_engine"
   ]
  },
  {
   "cell_type": "markdown",
   "id": "87790b74",
   "metadata": {},
   "source": [
    "### Loading the data from the database"
   ]
  },
  {
   "cell_type": "code",
   "execution_count": 3,
   "id": "081d99d9",
   "metadata": {},
   "outputs": [],
   "source": [
    "db_host = '18.136.157.135' # port:  3306\n",
    "username = 'dm_team2'\n",
    "user_pass = 'DM!$Team&27@9!20!'\n",
    "db_name = 'project_sales'\n",
    "\n",
    "conn = create_engine('mysql+pymysql://'+username+':'+user_pass+'@'+db_host+'/'+db_name)"
   ]
  },
  {
   "cell_type": "code",
   "execution_count": 4,
   "id": "4512d612",
   "metadata": {},
   "outputs": [
    {
     "name": "stderr",
     "output_type": "stream",
     "text": [
      "<ipython-input-4-9ac9e62d0ee4>:1: SADeprecationWarning: The Engine.table_names() method is deprecated and will be removed in a future release.  Please refer to Inspector.get_table_names(). (deprecated since: 1.4)\n",
      "  conn.table_names()\n"
     ]
    },
    {
     "data": {
      "text/plain": [
       "['data']"
      ]
     },
     "execution_count": 4,
     "metadata": {},
     "output_type": "execute_result"
    }
   ],
   "source": [
    "conn.table_names()"
   ]
  },
  {
   "cell_type": "code",
   "execution_count": 5,
   "id": "c47df808",
   "metadata": {},
   "outputs": [
    {
     "data": {
      "text/plain": [
       "'mysql+pymysql://dm_team2:DM!$Team&27@9!20!@18.136.157.135/project_sales'"
      ]
     },
     "execution_count": 5,
     "metadata": {},
     "output_type": "execute_result"
    }
   ],
   "source": [
    "'mysql+pymysql://'+username+':'+user_pass+'@'+db_host+'/'+db_name"
   ]
  },
  {
   "cell_type": "code",
   "execution_count": 6,
   "id": "09c5b10e",
   "metadata": {},
   "outputs": [],
   "source": [
    "query=\"select * from data\"\n",
    "data=pd.read_sql(query,conn)"
   ]
  },
  {
   "cell_type": "code",
   "execution_count": 7,
   "id": "2e685a28",
   "metadata": {
    "scrolled": true
   },
   "outputs": [
    {
     "data": {
      "text/html": [
       "<div>\n",
       "<style scoped>\n",
       "    .dataframe tbody tr th:only-of-type {\n",
       "        vertical-align: middle;\n",
       "    }\n",
       "\n",
       "    .dataframe tbody tr th {\n",
       "        vertical-align: top;\n",
       "    }\n",
       "\n",
       "    .dataframe thead th {\n",
       "        text-align: right;\n",
       "    }\n",
       "</style>\n",
       "<table border=\"1\" class=\"dataframe\">\n",
       "  <thead>\n",
       "    <tr style=\"text-align: right;\">\n",
       "      <th></th>\n",
       "      <th>Created</th>\n",
       "      <th>Product_ID</th>\n",
       "      <th>Source</th>\n",
       "      <th>Mobile</th>\n",
       "      <th>EMAIL</th>\n",
       "      <th>Sales_Agent</th>\n",
       "      <th>Location</th>\n",
       "      <th>Delivery_Mode</th>\n",
       "      <th>Status</th>\n",
       "    </tr>\n",
       "  </thead>\n",
       "  <tbody>\n",
       "    <tr>\n",
       "      <th>0</th>\n",
       "      <td>14-11-2018 10:05</td>\n",
       "      <td></td>\n",
       "      <td>Website</td>\n",
       "      <td>984XXXXXXX</td>\n",
       "      <td>aXXXXXXX@gmail.com</td>\n",
       "      <td>Sales-Agent-11</td>\n",
       "      <td></td>\n",
       "      <td>Mode-5</td>\n",
       "      <td>Open</td>\n",
       "    </tr>\n",
       "    <tr>\n",
       "      <th>1</th>\n",
       "      <td>14-11-2018 09:22</td>\n",
       "      <td></td>\n",
       "      <td>Website</td>\n",
       "      <td>XXXXXXX</td>\n",
       "      <td>#VALUE!</td>\n",
       "      <td>Sales-Agent-10</td>\n",
       "      <td></td>\n",
       "      <td>Mode-5</td>\n",
       "      <td>Open</td>\n",
       "    </tr>\n",
       "    <tr>\n",
       "      <th>2</th>\n",
       "      <td>14-11-2018 09:21</td>\n",
       "      <td></td>\n",
       "      <td>Website</td>\n",
       "      <td>XXXXXXX</td>\n",
       "      <td>dXXXXXXX@yahoo.com</td>\n",
       "      <td>Sales-Agent-10</td>\n",
       "      <td></td>\n",
       "      <td>Mode-5</td>\n",
       "      <td>Open</td>\n",
       "    </tr>\n",
       "    <tr>\n",
       "      <th>3</th>\n",
       "      <td>14-11-2018 08:46</td>\n",
       "      <td></td>\n",
       "      <td>Website</td>\n",
       "      <td>XXXXXXX</td>\n",
       "      <td>wXXXXXXX@gmail.com</td>\n",
       "      <td>Sales-Agent-10</td>\n",
       "      <td></td>\n",
       "      <td>Mode-5</td>\n",
       "      <td>Open</td>\n",
       "    </tr>\n",
       "    <tr>\n",
       "      <th>4</th>\n",
       "      <td>14-11-2018 07:34</td>\n",
       "      <td></td>\n",
       "      <td>Website</td>\n",
       "      <td>XXXXXXX</td>\n",
       "      <td>cXXXXXXX@gmail.com</td>\n",
       "      <td>Sales-Agent-10</td>\n",
       "      <td></td>\n",
       "      <td>Mode-5</td>\n",
       "      <td>Open</td>\n",
       "    </tr>\n",
       "    <tr>\n",
       "      <th>...</th>\n",
       "      <td>...</td>\n",
       "      <td>...</td>\n",
       "      <td>...</td>\n",
       "      <td>...</td>\n",
       "      <td>...</td>\n",
       "      <td>...</td>\n",
       "      <td>...</td>\n",
       "      <td>...</td>\n",
       "      <td>...</td>\n",
       "    </tr>\n",
       "    <tr>\n",
       "      <th>7417</th>\n",
       "      <td>28-04-2018 09:45</td>\n",
       "      <td>9</td>\n",
       "      <td>Call</td>\n",
       "      <td></td>\n",
       "      <td>aXXXXXXX@gmail.com</td>\n",
       "      <td>Sales-Agent-6</td>\n",
       "      <td>Mumbai</td>\n",
       "      <td>Mode-4</td>\n",
       "      <td>LOST</td>\n",
       "    </tr>\n",
       "    <tr>\n",
       "      <th>7418</th>\n",
       "      <td>28-04-2018 09:43</td>\n",
       "      <td>15</td>\n",
       "      <td>Call</td>\n",
       "      <td></td>\n",
       "      <td>#VALUE!</td>\n",
       "      <td>Sales-Agent-12</td>\n",
       "      <td>Other Locations</td>\n",
       "      <td>Mode-5</td>\n",
       "      <td>LOST</td>\n",
       "    </tr>\n",
       "    <tr>\n",
       "      <th>7419</th>\n",
       "      <td>28-04-2018 09:20</td>\n",
       "      <td>5</td>\n",
       "      <td>Live Chat-Direct</td>\n",
       "      <td></td>\n",
       "      <td>sXXXXXXX@gmail.com</td>\n",
       "      <td>Sales-Agent-11</td>\n",
       "      <td>Bangalore</td>\n",
       "      <td>Mode-1</td>\n",
       "      <td>Not Responding</td>\n",
       "    </tr>\n",
       "    <tr>\n",
       "      <th>7420</th>\n",
       "      <td>28-04-2018 08:04</td>\n",
       "      <td>21</td>\n",
       "      <td>CRM form</td>\n",
       "      <td></td>\n",
       "      <td>YXXXXXXX@gmail.com</td>\n",
       "      <td>Sales-Agent-4</td>\n",
       "      <td>Other Locations</td>\n",
       "      <td>Mode-1</td>\n",
       "      <td>Just Enquiry</td>\n",
       "    </tr>\n",
       "    <tr>\n",
       "      <th>7421</th>\n",
       "      <td>28-04-2018 07:54</td>\n",
       "      <td>25</td>\n",
       "      <td>Website</td>\n",
       "      <td></td>\n",
       "      <td>cXXXXXXX@gmail.com</td>\n",
       "      <td>Sales-Agent-3</td>\n",
       "      <td>Chennai</td>\n",
       "      <td>Mode-1</td>\n",
       "      <td>CONVERTED</td>\n",
       "    </tr>\n",
       "  </tbody>\n",
       "</table>\n",
       "<p>7422 rows × 9 columns</p>\n",
       "</div>"
      ],
      "text/plain": [
       "               Created Product_ID            Source      Mobile  \\\n",
       "0     14-11-2018 10:05                      Website  984XXXXXXX   \n",
       "1     14-11-2018 09:22                      Website     XXXXXXX   \n",
       "2     14-11-2018 09:21                      Website     XXXXXXX   \n",
       "3     14-11-2018 08:46                      Website     XXXXXXX   \n",
       "4     14-11-2018 07:34                      Website     XXXXXXX   \n",
       "...                ...        ...               ...         ...   \n",
       "7417  28-04-2018 09:45          9              Call               \n",
       "7418  28-04-2018 09:43         15              Call               \n",
       "7419  28-04-2018 09:20          5  Live Chat-Direct               \n",
       "7420  28-04-2018 08:04         21          CRM form               \n",
       "7421  28-04-2018 07:54         25           Website               \n",
       "\n",
       "                   EMAIL     Sales_Agent         Location Delivery_Mode  \\\n",
       "0     aXXXXXXX@gmail.com  Sales-Agent-11                         Mode-5   \n",
       "1                #VALUE!  Sales-Agent-10                         Mode-5   \n",
       "2     dXXXXXXX@yahoo.com  Sales-Agent-10                         Mode-5   \n",
       "3     wXXXXXXX@gmail.com  Sales-Agent-10                         Mode-5   \n",
       "4     cXXXXXXX@gmail.com  Sales-Agent-10                         Mode-5   \n",
       "...                  ...             ...              ...           ...   \n",
       "7417  aXXXXXXX@gmail.com   Sales-Agent-6           Mumbai        Mode-4   \n",
       "7418             #VALUE!  Sales-Agent-12  Other Locations        Mode-5   \n",
       "7419  sXXXXXXX@gmail.com  Sales-Agent-11        Bangalore        Mode-1   \n",
       "7420  YXXXXXXX@gmail.com   Sales-Agent-4  Other Locations        Mode-1   \n",
       "7421  cXXXXXXX@gmail.com   Sales-Agent-3          Chennai        Mode-1   \n",
       "\n",
       "              Status  \n",
       "0               Open  \n",
       "1               Open  \n",
       "2               Open  \n",
       "3               Open  \n",
       "4               Open  \n",
       "...              ...  \n",
       "7417            LOST  \n",
       "7418            LOST  \n",
       "7419  Not Responding  \n",
       "7420    Just Enquiry  \n",
       "7421       CONVERTED  \n",
       "\n",
       "[7422 rows x 9 columns]"
      ]
     },
     "execution_count": 7,
     "metadata": {},
     "output_type": "execute_result"
    }
   ],
   "source": [
    "data"
   ]
  },
  {
   "cell_type": "code",
   "execution_count": 8,
   "id": "f52c6c55",
   "metadata": {
    "scrolled": true
   },
   "outputs": [
    {
     "data": {
      "text/plain": [
       "Created          0\n",
       "Product_ID       0\n",
       "Source           0\n",
       "Mobile           0\n",
       "EMAIL            0\n",
       "Sales_Agent      0\n",
       "Location         0\n",
       "Delivery_Mode    0\n",
       "Status           0\n",
       "dtype: int64"
      ]
     },
     "execution_count": 8,
     "metadata": {},
     "output_type": "execute_result"
    }
   ],
   "source": [
    "data.isnull().sum()"
   ]
  },
  {
   "cell_type": "code",
   "execution_count": 9,
   "id": "a468a48c",
   "metadata": {},
   "outputs": [
    {
     "data": {
      "text/plain": [
       "array(['Sales-Agent-11', 'Sales-Agent-10', 'Sales-Agent-3',\n",
       "       'Sales-Agent-4', 'Sales-Agent-9', 'Sales-Agent-7', '',\n",
       "       'Sales-Agent-8', 'Sales-Agent-5', 'Sales-Agent-2',\n",
       "       'Sales-Agent-12', 'Sales-Agent-1', 'Sales-Agent-6'], dtype=object)"
      ]
     },
     "execution_count": 9,
     "metadata": {},
     "output_type": "execute_result"
    }
   ],
   "source": [
    "data.Sales_Agent.unique()"
   ]
  },
  {
   "cell_type": "code",
   "execution_count": 10,
   "id": "1a78facc",
   "metadata": {},
   "outputs": [],
   "source": [
    "data.to_csv('data.csv') #Saving the dataset to the local system"
   ]
  },
  {
   "cell_type": "code",
   "execution_count": 11,
   "id": "12dee0b2",
   "metadata": {},
   "outputs": [],
   "source": [
    "data=pd.read_csv('data.csv')"
   ]
  },
  {
   "cell_type": "code",
   "execution_count": 12,
   "id": "de5c9031",
   "metadata": {
    "scrolled": true
   },
   "outputs": [
    {
     "data": {
      "text/html": [
       "<div>\n",
       "<style scoped>\n",
       "    .dataframe tbody tr th:only-of-type {\n",
       "        vertical-align: middle;\n",
       "    }\n",
       "\n",
       "    .dataframe tbody tr th {\n",
       "        vertical-align: top;\n",
       "    }\n",
       "\n",
       "    .dataframe thead th {\n",
       "        text-align: right;\n",
       "    }\n",
       "</style>\n",
       "<table border=\"1\" class=\"dataframe\">\n",
       "  <thead>\n",
       "    <tr style=\"text-align: right;\">\n",
       "      <th></th>\n",
       "      <th>Unnamed: 0</th>\n",
       "      <th>Created</th>\n",
       "      <th>Product_ID</th>\n",
       "      <th>Source</th>\n",
       "      <th>Mobile</th>\n",
       "      <th>EMAIL</th>\n",
       "      <th>Sales_Agent</th>\n",
       "      <th>Location</th>\n",
       "      <th>Delivery_Mode</th>\n",
       "      <th>Status</th>\n",
       "    </tr>\n",
       "  </thead>\n",
       "  <tbody>\n",
       "    <tr>\n",
       "      <th>0</th>\n",
       "      <td>0</td>\n",
       "      <td>14-11-2018 10:05</td>\n",
       "      <td>NaN</td>\n",
       "      <td>Website</td>\n",
       "      <td>984XXXXXXX</td>\n",
       "      <td>aXXXXXXX@gmail.com</td>\n",
       "      <td>Sales-Agent-11</td>\n",
       "      <td>NaN</td>\n",
       "      <td>Mode-5</td>\n",
       "      <td>Open</td>\n",
       "    </tr>\n",
       "    <tr>\n",
       "      <th>1</th>\n",
       "      <td>1</td>\n",
       "      <td>14-11-2018 09:22</td>\n",
       "      <td>NaN</td>\n",
       "      <td>Website</td>\n",
       "      <td>XXXXXXX</td>\n",
       "      <td>#VALUE!</td>\n",
       "      <td>Sales-Agent-10</td>\n",
       "      <td>NaN</td>\n",
       "      <td>Mode-5</td>\n",
       "      <td>Open</td>\n",
       "    </tr>\n",
       "    <tr>\n",
       "      <th>2</th>\n",
       "      <td>2</td>\n",
       "      <td>14-11-2018 09:21</td>\n",
       "      <td>NaN</td>\n",
       "      <td>Website</td>\n",
       "      <td>XXXXXXX</td>\n",
       "      <td>dXXXXXXX@yahoo.com</td>\n",
       "      <td>Sales-Agent-10</td>\n",
       "      <td>NaN</td>\n",
       "      <td>Mode-5</td>\n",
       "      <td>Open</td>\n",
       "    </tr>\n",
       "    <tr>\n",
       "      <th>3</th>\n",
       "      <td>3</td>\n",
       "      <td>14-11-2018 08:46</td>\n",
       "      <td>NaN</td>\n",
       "      <td>Website</td>\n",
       "      <td>XXXXXXX</td>\n",
       "      <td>wXXXXXXX@gmail.com</td>\n",
       "      <td>Sales-Agent-10</td>\n",
       "      <td>NaN</td>\n",
       "      <td>Mode-5</td>\n",
       "      <td>Open</td>\n",
       "    </tr>\n",
       "    <tr>\n",
       "      <th>4</th>\n",
       "      <td>4</td>\n",
       "      <td>14-11-2018 07:34</td>\n",
       "      <td>NaN</td>\n",
       "      <td>Website</td>\n",
       "      <td>XXXXXXX</td>\n",
       "      <td>cXXXXXXX@gmail.com</td>\n",
       "      <td>Sales-Agent-10</td>\n",
       "      <td>NaN</td>\n",
       "      <td>Mode-5</td>\n",
       "      <td>Open</td>\n",
       "    </tr>\n",
       "  </tbody>\n",
       "</table>\n",
       "</div>"
      ],
      "text/plain": [
       "   Unnamed: 0           Created  Product_ID   Source      Mobile  \\\n",
       "0           0  14-11-2018 10:05         NaN  Website  984XXXXXXX   \n",
       "1           1  14-11-2018 09:22         NaN  Website     XXXXXXX   \n",
       "2           2  14-11-2018 09:21         NaN  Website     XXXXXXX   \n",
       "3           3  14-11-2018 08:46         NaN  Website     XXXXXXX   \n",
       "4           4  14-11-2018 07:34         NaN  Website     XXXXXXX   \n",
       "\n",
       "                EMAIL     Sales_Agent Location Delivery_Mode Status  \n",
       "0  aXXXXXXX@gmail.com  Sales-Agent-11      NaN        Mode-5   Open  \n",
       "1             #VALUE!  Sales-Agent-10      NaN        Mode-5   Open  \n",
       "2  dXXXXXXX@yahoo.com  Sales-Agent-10      NaN        Mode-5   Open  \n",
       "3  wXXXXXXX@gmail.com  Sales-Agent-10      NaN        Mode-5   Open  \n",
       "4  cXXXXXXX@gmail.com  Sales-Agent-10      NaN        Mode-5   Open  "
      ]
     },
     "execution_count": 12,
     "metadata": {},
     "output_type": "execute_result"
    }
   ],
   "source": [
    "data.head()"
   ]
  },
  {
   "cell_type": "code",
   "execution_count": 13,
   "id": "8f71ad72",
   "metadata": {
    "scrolled": false
   },
   "outputs": [
    {
     "name": "stdout",
     "output_type": "stream",
     "text": [
      "<class 'pandas.core.frame.DataFrame'>\n",
      "RangeIndex: 7422 entries, 0 to 7421\n",
      "Data columns (total 10 columns):\n",
      " #   Column         Non-Null Count  Dtype  \n",
      "---  ------         --------------  -----  \n",
      " 0   Unnamed: 0     7422 non-null   int64  \n",
      " 1   Created        7422 non-null   object \n",
      " 2   Product_ID     7364 non-null   float64\n",
      " 3   Source         7405 non-null   object \n",
      " 4   Mobile         5612 non-null   object \n",
      " 5   EMAIL          7422 non-null   object \n",
      " 6   Sales_Agent    7399 non-null   object \n",
      " 7   Location       7364 non-null   object \n",
      " 8   Delivery_Mode  7422 non-null   object \n",
      " 9   Status         7422 non-null   object \n",
      "dtypes: float64(1), int64(1), object(8)\n",
      "memory usage: 580.0+ KB\n"
     ]
    }
   ],
   "source": [
    "data.info()"
   ]
  },
  {
   "cell_type": "code",
   "execution_count": 14,
   "id": "496e4edc",
   "metadata": {
    "scrolled": false
   },
   "outputs": [
    {
     "data": {
      "text/plain": [
       "58"
      ]
     },
     "execution_count": 14,
     "metadata": {},
     "output_type": "execute_result"
    }
   ],
   "source": [
    "data.Product_ID.isnull().sum()"
   ]
  },
  {
   "cell_type": "code",
   "execution_count": 15,
   "id": "214536c3",
   "metadata": {
    "scrolled": true
   },
   "outputs": [
    {
     "data": {
      "text/plain": [
       "Index(['Unnamed: 0', 'Created', 'Product_ID', 'Source', 'Mobile', 'EMAIL',\n",
       "       'Sales_Agent', 'Location', 'Delivery_Mode', 'Status'],\n",
       "      dtype='object')"
      ]
     },
     "execution_count": 15,
     "metadata": {},
     "output_type": "execute_result"
    }
   ],
   "source": [
    "data.columns"
   ]
  },
  {
   "cell_type": "code",
   "execution_count": 16,
   "id": "95cdceeb",
   "metadata": {
    "scrolled": false
   },
   "outputs": [
    {
     "data": {
      "application/vnd.jupyter.widget-view+json": {
       "model_id": "8d668533def145bda46d6913e6b16d7a",
       "version_major": 2,
       "version_minor": 0
      },
      "text/plain": [
       "                                             |                                             | [  0%]   00:00 ->…"
      ]
     },
     "metadata": {},
     "output_type": "display_data"
    },
    {
     "name": "stdout",
     "output_type": "stream",
     "text": [
      "Report SWEETVIZ_REPORT.html was generated! NOTEBOOK/COLAB USERS: the web browser MAY not pop up, regardless, the report IS saved in your notebook/colab files.\n"
     ]
    }
   ],
   "source": [
    "# Univariate Analysis:\n",
    "import sweetviz as sv\n",
    "my_report = sv.analyze(data)## pass the original dataframe\n",
    "my_report.show_html() "
   ]
  },
  {
   "cell_type": "markdown",
   "id": "ba0b6054",
   "metadata": {},
   "source": [
    "## Univariate Insights:\n",
    "       \n",
    "     1.Created:       Its the date and time on which the sales transaction takes place\n",
    "     2.Product_ID:    Its the ID number of the Company's Product which the sales_Agent has to deal with the customers\n",
    "     3.Source:        Its the way of communication viz., website,call,live chat-direct but most of the deal happens through\n",
    "                      call only.\n",
    "     4.Mobile:        Its the contact number of the customer on which the sales occured or the communication attempted\n",
    "     5.EMAIL:         Its the Email ID of the customer through which the quatation or other required documents have to be\n",
    "                      sent\n",
    "     6.Sales_Agent:   The medium or a person which connects customer with the company is the sales agent who directly deals\n",
    "                      with the Valuable Customer and also solves querry regarding the sales deal.\n",
    "     7.Location:      Its belongs to the place of a customer, from where he/she is talking or living.\n",
    "     8.Delivery_Mode: Its the way of delivery of product which the company have availed for the customers,\n",
    "                      there are 5 modes of deivery, out of which mode-5 is preffered mostly by the customer\n",
    "     9.Status:        Its the status of the attempt whether the sales deal had been happened positively or negatively or\n",
    "                      on-hold.\n",
    "\n",
    "    "
   ]
  },
  {
   "cell_type": "code",
   "execution_count": 17,
   "id": "9164d371",
   "metadata": {},
   "outputs": [
    {
     "data": {
      "text/plain": [
       "10-05-2018 12:30    4\n",
       "14-09-2018 12:00    4\n",
       "26-09-2018 11:30    4\n",
       "27-09-2018 11:00    4\n",
       "15-10-2018 10:36    4\n",
       "                   ..\n",
       "11-07-2018 22:24    1\n",
       "08-11-2018 12:25    1\n",
       "23-07-2018 21:35    1\n",
       "28-08-2018 10:55    1\n",
       "09-10-2018 19:54    1\n",
       "Name: Created, Length: 6752, dtype: int64"
      ]
     },
     "execution_count": 17,
     "metadata": {},
     "output_type": "execute_result"
    }
   ],
   "source": [
    "data.Created.value_counts()"
   ]
  },
  {
   "cell_type": "code",
   "execution_count": 18,
   "id": "55b0cfee",
   "metadata": {
    "scrolled": false
   },
   "outputs": [
    {
     "data": {
      "text/plain": [
       "18.0    1711\n",
       "15.0    1518\n",
       "19.0    1189\n",
       "9.0      992\n",
       "27.0     739\n",
       "5.0      487\n",
       "10.0     168\n",
       "1.0      105\n",
       "20.0     102\n",
       "25.0      90\n",
       "21.0      66\n",
       "2.0       38\n",
       "12.0      36\n",
       "26.0      31\n",
       "14.0      27\n",
       "11.0      12\n",
       "22.0       8\n",
       "17.0       7\n",
       "6.0        7\n",
       "3.0        7\n",
       "8.0        6\n",
       "13.0       5\n",
       "16.0       3\n",
       "24.0       3\n",
       "23.0       2\n",
       "0.0        2\n",
       "28.0       1\n",
       "7.0        1\n",
       "4.0        1\n",
       "Name: Product_ID, dtype: int64"
      ]
     },
     "execution_count": 18,
     "metadata": {},
     "output_type": "execute_result"
    }
   ],
   "source": [
    "data.Product_ID.value_counts()"
   ]
  },
  {
   "cell_type": "code",
   "execution_count": 19,
   "id": "6b0cd57d",
   "metadata": {},
   "outputs": [
    {
     "data": {
      "text/plain": [
       "XXXXXXX       222\n",
       "988XXXXXXX    211\n",
       "984XXXXXXX    177\n",
       "998XXXXXXX    125\n",
       "994XXXXXXX    112\n",
       "             ... \n",
       "717XXXXXXX      1\n",
       "222XXXXXXX      1\n",
       "510XXXXXXX      1\n",
       "519XXXXXXX      1\n",
       "043XXXXXXX      1\n",
       "Name: Mobile, Length: 486, dtype: int64"
      ]
     },
     "execution_count": 19,
     "metadata": {},
     "output_type": "execute_result"
    }
   ],
   "source": [
    "data.Mobile.value_counts()"
   ]
  },
  {
   "cell_type": "code",
   "execution_count": 20,
   "id": "9268a0b7",
   "metadata": {
    "scrolled": true
   },
   "outputs": [
    {
     "data": {
      "text/plain": [
       "#VALUE!               1701\n",
       "sXXXXXXX@gmail.com     781\n",
       "aXXXXXXX@gmail.com     445\n",
       "rXXXXXXX@gmail.com     342\n",
       "mXXXXXXX@gmail.com     305\n",
       "                      ... \n",
       "hXXXXXXXa-tech.com       1\n",
       "aXXXXXXXvinfra.com       1\n",
       "kXXXXXXX2@yahoo.in       1\n",
       "vXXXXXXXi@gmail.om       1\n",
       "KXXXXXXXa.b@sc.com       1\n",
       "Name: EMAIL, Length: 883, dtype: int64"
      ]
     },
     "execution_count": 20,
     "metadata": {},
     "output_type": "execute_result"
    }
   ],
   "source": [
    "data.EMAIL.value_counts()"
   ]
  },
  {
   "cell_type": "code",
   "execution_count": 21,
   "id": "2737f249",
   "metadata": {},
   "outputs": [
    {
     "data": {
      "text/plain": [
       "Index(['Unnamed: 0', 'Created', 'Product_ID', 'Source', 'Mobile', 'EMAIL',\n",
       "       'Sales_Agent', 'Location', 'Delivery_Mode', 'Status'],\n",
       "      dtype='object')"
      ]
     },
     "execution_count": 21,
     "metadata": {},
     "output_type": "execute_result"
    }
   ],
   "source": [
    "data.columns"
   ]
  },
  {
   "cell_type": "markdown",
   "id": "83734e64",
   "metadata": {},
   "source": [
    "## Dropping columns which not relevent to the target variable\n",
    "### 1.'Unnamed: 0' :- This is just a serial number of the transaction, so dont have relation with the data to process, hence will drop it\n",
    "\n",
    "### 2. 'Created' :- This column is the date and time of the transaction and it is unique through every entry and dont have any strong relation with the target variable so will drop it.\n",
    "\n",
    "### 3. 'Product_ID' :- Its the ID of the product which the sales agent deals with customers but the product ID doesn't affect the target variable, as it doesnt tells that the deal has been done or not.\n",
    "\n",
    "### 4. 'Mobile' :- Its the contact number of the customer which is unique through every customer so need to drop it as it is not affecting the target variable.\n",
    "\n",
    "### 5. 'EMAIL' :- It is also a way of contact with customer for documentation which is unique through each and every customer, So need to drop this feature as it is not relevent for target variable"
   ]
  },
  {
   "cell_type": "code",
   "execution_count": 22,
   "id": "d2e9c8bd",
   "metadata": {
    "scrolled": true
   },
   "outputs": [
    {
     "data": {
      "text/html": [
       "<div>\n",
       "<style scoped>\n",
       "    .dataframe tbody tr th:only-of-type {\n",
       "        vertical-align: middle;\n",
       "    }\n",
       "\n",
       "    .dataframe tbody tr th {\n",
       "        vertical-align: top;\n",
       "    }\n",
       "\n",
       "    .dataframe thead th {\n",
       "        text-align: right;\n",
       "    }\n",
       "</style>\n",
       "<table border=\"1\" class=\"dataframe\">\n",
       "  <thead>\n",
       "    <tr style=\"text-align: right;\">\n",
       "      <th></th>\n",
       "      <th>Source</th>\n",
       "      <th>Sales_Agent</th>\n",
       "      <th>Location</th>\n",
       "      <th>Delivery_Mode</th>\n",
       "      <th>Status</th>\n",
       "    </tr>\n",
       "  </thead>\n",
       "  <tbody>\n",
       "    <tr>\n",
       "      <th>0</th>\n",
       "      <td>Website</td>\n",
       "      <td>Sales-Agent-11</td>\n",
       "      <td>NaN</td>\n",
       "      <td>Mode-5</td>\n",
       "      <td>Open</td>\n",
       "    </tr>\n",
       "    <tr>\n",
       "      <th>1</th>\n",
       "      <td>Website</td>\n",
       "      <td>Sales-Agent-10</td>\n",
       "      <td>NaN</td>\n",
       "      <td>Mode-5</td>\n",
       "      <td>Open</td>\n",
       "    </tr>\n",
       "    <tr>\n",
       "      <th>2</th>\n",
       "      <td>Website</td>\n",
       "      <td>Sales-Agent-10</td>\n",
       "      <td>NaN</td>\n",
       "      <td>Mode-5</td>\n",
       "      <td>Open</td>\n",
       "    </tr>\n",
       "    <tr>\n",
       "      <th>3</th>\n",
       "      <td>Website</td>\n",
       "      <td>Sales-Agent-10</td>\n",
       "      <td>NaN</td>\n",
       "      <td>Mode-5</td>\n",
       "      <td>Open</td>\n",
       "    </tr>\n",
       "    <tr>\n",
       "      <th>4</th>\n",
       "      <td>Website</td>\n",
       "      <td>Sales-Agent-10</td>\n",
       "      <td>NaN</td>\n",
       "      <td>Mode-5</td>\n",
       "      <td>Open</td>\n",
       "    </tr>\n",
       "    <tr>\n",
       "      <th>5</th>\n",
       "      <td>Website</td>\n",
       "      <td>Sales-Agent-10</td>\n",
       "      <td>NaN</td>\n",
       "      <td>Mode-5</td>\n",
       "      <td>Open</td>\n",
       "    </tr>\n",
       "    <tr>\n",
       "      <th>6</th>\n",
       "      <td>Website</td>\n",
       "      <td>Sales-Agent-10</td>\n",
       "      <td>NaN</td>\n",
       "      <td>Mode-5</td>\n",
       "      <td>Open</td>\n",
       "    </tr>\n",
       "    <tr>\n",
       "      <th>7</th>\n",
       "      <td>Website</td>\n",
       "      <td>Sales-Agent-10</td>\n",
       "      <td>NaN</td>\n",
       "      <td>Mode-5</td>\n",
       "      <td>Open</td>\n",
       "    </tr>\n",
       "    <tr>\n",
       "      <th>8</th>\n",
       "      <td>Website</td>\n",
       "      <td>Sales-Agent-10</td>\n",
       "      <td>NaN</td>\n",
       "      <td>Mode-5</td>\n",
       "      <td>Open</td>\n",
       "    </tr>\n",
       "    <tr>\n",
       "      <th>9</th>\n",
       "      <td>Website</td>\n",
       "      <td>Sales-Agent-10</td>\n",
       "      <td>NaN</td>\n",
       "      <td>Mode-5</td>\n",
       "      <td>Open</td>\n",
       "    </tr>\n",
       "  </tbody>\n",
       "</table>\n",
       "</div>"
      ],
      "text/plain": [
       "    Source     Sales_Agent Location Delivery_Mode Status\n",
       "0  Website  Sales-Agent-11      NaN        Mode-5   Open\n",
       "1  Website  Sales-Agent-10      NaN        Mode-5   Open\n",
       "2  Website  Sales-Agent-10      NaN        Mode-5   Open\n",
       "3  Website  Sales-Agent-10      NaN        Mode-5   Open\n",
       "4  Website  Sales-Agent-10      NaN        Mode-5   Open\n",
       "5  Website  Sales-Agent-10      NaN        Mode-5   Open\n",
       "6  Website  Sales-Agent-10      NaN        Mode-5   Open\n",
       "7  Website  Sales-Agent-10      NaN        Mode-5   Open\n",
       "8  Website  Sales-Agent-10      NaN        Mode-5   Open\n",
       "9  Website  Sales-Agent-10      NaN        Mode-5   Open"
      ]
     },
     "execution_count": 22,
     "metadata": {},
     "output_type": "execute_result"
    }
   ],
   "source": [
    "data.drop(['Unnamed: 0','Created','Product_ID','Mobile','EMAIL'],axis=1,inplace=True)\n",
    "data.head(10)"
   ]
  },
  {
   "cell_type": "code",
   "execution_count": 23,
   "id": "9e5f62e6",
   "metadata": {
    "scrolled": true
   },
   "outputs": [
    {
     "data": {
      "text/plain": [
       "Source           17\n",
       "Sales_Agent      23\n",
       "Location         58\n",
       "Delivery_Mode     0\n",
       "Status            0\n",
       "dtype: int64"
      ]
     },
     "execution_count": 23,
     "metadata": {},
     "output_type": "execute_result"
    }
   ],
   "source": [
    "# Checking missing values:\n",
    "data.isnull().sum()"
   ]
  },
  {
   "cell_type": "code",
   "execution_count": 24,
   "id": "5e28d5c6",
   "metadata": {},
   "outputs": [
    {
     "data": {
      "text/plain": [
       "Call                             2547\n",
       "Live Chat-Direct                 1834\n",
       "Website                          1594\n",
       "Live Chat-Google Organic          274\n",
       "Live Chat -PPC                    249\n",
       "Live Chat-Blog                    237\n",
       "Customer Referral                 180\n",
       "US Website                        137\n",
       "Just Dial                          56\n",
       "Existing Client                    51\n",
       "Personal Contact                   50\n",
       "Live Chat-CPC                      50\n",
       "By Recommendation                  32\n",
       "CRM form                           23\n",
       "Existing Customer                  22\n",
       "Live Chat-Google Ads               21\n",
       "Campaign                           19\n",
       "E-mail Campaign                    12\n",
       "Live Chat-Adwords Remarketing       7\n",
       "Other                               2\n",
       "Live Chat-Quora                     2\n",
       "Live Chat-Youtube                   2\n",
       "SMS Campaign                        2\n",
       "Live Chat-Justdial                  1\n",
       "E-Mail Message                      1\n",
       "Name: Source, dtype: int64"
      ]
     },
     "execution_count": 24,
     "metadata": {},
     "output_type": "execute_result"
    }
   ],
   "source": [
    "data.Source.value_counts()"
   ]
  },
  {
   "cell_type": "code",
   "execution_count": 25,
   "id": "df4f0848",
   "metadata": {},
   "outputs": [],
   "source": [
    "#Imputing missing values:\n",
    "data.Source=data.Source.fillna('Call')"
   ]
  },
  {
   "cell_type": "code",
   "execution_count": 26,
   "id": "9bec41c3",
   "metadata": {},
   "outputs": [
    {
     "data": {
      "text/plain": [
       "Sales-Agent-4     1500\n",
       "Sales-Agent-11    1420\n",
       "Sales-Agent-5     1190\n",
       "Sales-Agent-9      879\n",
       "Sales-Agent-3      781\n",
       "Sales-Agent-7      736\n",
       "Sales-Agent-2      389\n",
       "Sales-Agent-12     269\n",
       "Sales-Agent-6      114\n",
       "Sales-Agent-8       68\n",
       "Sales-Agent-10      49\n",
       "Sales-Agent-1        4\n",
       "Name: Sales_Agent, dtype: int64"
      ]
     },
     "execution_count": 26,
     "metadata": {},
     "output_type": "execute_result"
    }
   ],
   "source": [
    "data.Sales_Agent.value_counts()"
   ]
  },
  {
   "cell_type": "code",
   "execution_count": 27,
   "id": "7079e97c",
   "metadata": {},
   "outputs": [],
   "source": [
    "data.Sales_Agent=data.Sales_Agent.fillna('Sales-Agent-1')"
   ]
  },
  {
   "cell_type": "code",
   "execution_count": 28,
   "id": "3e6a6ef0",
   "metadata": {},
   "outputs": [
    {
     "data": {
      "text/plain": [
       "Other Locations    2500\n",
       "Bangalore          2084\n",
       "Chennai             909\n",
       "Hyderabad           528\n",
       "Delhi               471\n",
       "Mumbai              402\n",
       "Pune                142\n",
       "UAE                  79\n",
       "Trivandrum           58\n",
       "Kolkata              55\n",
       "USA                  45\n",
       "UK                   41\n",
       "AUSTRALIA            25\n",
       "Singapore            17\n",
       "Malaysia              4\n",
       "EUROPE                3\n",
       "Howrah                1\n",
       "Name: Location, dtype: int64"
      ]
     },
     "execution_count": 28,
     "metadata": {},
     "output_type": "execute_result"
    }
   ],
   "source": [
    "data.Location.value_counts()"
   ]
  },
  {
   "cell_type": "code",
   "execution_count": 29,
   "id": "90c77c51",
   "metadata": {},
   "outputs": [],
   "source": [
    "data.Location=data.Location.fillna('Other Locations')"
   ]
  },
  {
   "cell_type": "code",
   "execution_count": 30,
   "id": "70cfa3cc",
   "metadata": {
    "scrolled": false
   },
   "outputs": [
    {
     "data": {
      "text/plain": [
       "Source           0\n",
       "Sales_Agent      0\n",
       "Location         0\n",
       "Delivery_Mode    0\n",
       "Status           0\n",
       "dtype: int64"
      ]
     },
     "execution_count": 30,
     "metadata": {},
     "output_type": "execute_result"
    }
   ],
   "source": [
    "data.isnull().sum()"
   ]
  },
  {
   "cell_type": "code",
   "execution_count": 31,
   "id": "d90eca5d",
   "metadata": {},
   "outputs": [
    {
     "data": {
      "text/plain": [
       "array(['Website', 'Call', 'Live Chat-Google Organic', 'Live Chat-Direct',\n",
       "       'By Recommendation', 'Customer Referral', 'Live Chat-Blog',\n",
       "       'Live Chat -PPC', 'Live Chat-Google Ads',\n",
       "       'Live Chat-Adwords Remarketing', 'E-Mail Message',\n",
       "       'Existing Client', 'Live Chat-CPC', 'Existing Customer',\n",
       "       'Live Chat-Quora', 'US Website', 'Just Dial', 'Campaign', 'Other',\n",
       "       'E-mail Campaign', 'CRM form', 'SMS Campaign', 'Personal Contact',\n",
       "       'Live Chat-Youtube', 'Live Chat-Justdial'], dtype=object)"
      ]
     },
     "execution_count": 31,
     "metadata": {},
     "output_type": "execute_result"
    }
   ],
   "source": [
    "data.Source.unique()"
   ]
  },
  {
   "cell_type": "code",
   "execution_count": 32,
   "id": "87a748d8",
   "metadata": {},
   "outputs": [],
   "source": [
    "#Combining the features of source, so that features count will be reduced\n",
    "data.loc[data['Source']=='Live Chat-Google Organic','Source']='Live_chat'\n",
    "data.loc[data['Source']=='Live Chat-Direct','Source']='Live_chat'\n",
    "data.loc[data['Source']=='Live Chat-Blog','Source']='Live_chat'\n",
    "data.loc[data['Source']=='Live Chat -PPC','Source']='Live_chat'\n",
    "data.loc[data['Source']=='Live Chat-CPC','Source']='Live_chat'\n",
    "data.loc[data['Source']=='Live Chat-Google Ads','Source']='Live_chat'\n",
    "data.loc[data['Source']=='Live Chat-Adwords Remarketing','Source']='Live_chat'\n",
    "data.loc[data['Source']=='Live Chat-Quora','Source']='Live_chat'\n",
    "data.loc[data['Source']=='Live Chat-Youtube','Source']='Live_chat'\n",
    "data.loc[data['Source']=='Live Chat-Justdial','Source']='Live_chat'\n",
    "data.loc[data['Source']=='By Recommendation','Source']='Call'\n",
    "data.loc[data['Source']=='Customer Referral','Source']='Call'\n",
    "data.loc[data['Source']=='Existing Client','Source']='Call'\n",
    "data.loc[data['Source']=='Existing Customer','Source']='Call'\n",
    "data.loc[data['Source']=='Just Dial','Source']='Call'\n",
    "data.loc[data['Source']=='Personal Contact','Source']='Call'\n",
    "data.loc[data['Source']=='E-Mail Message','Source']='Website'\n",
    "data.loc[data['Source']=='US Website','Source']='Website'\n",
    "data.loc[data['Source']=='CRM form','Source']='Website'\n",
    "data.loc[data['Source']=='E-mail Campaign','Source']='Website'\n",
    "data.loc[data['Source']=='SMS Campaign','Source']='Website'\n",
    "data.loc[data['Source']=='Other','Source']='Website'\n",
    "data.loc[data['Source']=='Campaign','Source']='Website'"
   ]
  },
  {
   "cell_type": "code",
   "execution_count": 33,
   "id": "592ac7a5",
   "metadata": {
    "scrolled": false
   },
   "outputs": [
    {
     "data": {
      "text/plain": [
       "Call         2955\n",
       "Live_chat    2677\n",
       "Website      1790\n",
       "Name: Source, dtype: int64"
      ]
     },
     "execution_count": 33,
     "metadata": {},
     "output_type": "execute_result"
    }
   ],
   "source": [
    "data.Source.value_counts()"
   ]
  },
  {
   "cell_type": "code",
   "execution_count": 34,
   "id": "b960dab1",
   "metadata": {
    "scrolled": false
   },
   "outputs": [
    {
     "data": {
      "text/html": [
       "<div>\n",
       "<style scoped>\n",
       "    .dataframe tbody tr th:only-of-type {\n",
       "        vertical-align: middle;\n",
       "    }\n",
       "\n",
       "    .dataframe tbody tr th {\n",
       "        vertical-align: top;\n",
       "    }\n",
       "\n",
       "    .dataframe thead th {\n",
       "        text-align: right;\n",
       "    }\n",
       "</style>\n",
       "<table border=\"1\" class=\"dataframe\">\n",
       "  <thead>\n",
       "    <tr style=\"text-align: right;\">\n",
       "      <th></th>\n",
       "      <th>Source</th>\n",
       "      <th>Sales_Agent</th>\n",
       "      <th>Location</th>\n",
       "      <th>Delivery_Mode</th>\n",
       "      <th>Status</th>\n",
       "    </tr>\n",
       "  </thead>\n",
       "  <tbody>\n",
       "    <tr>\n",
       "      <th>0</th>\n",
       "      <td>Website</td>\n",
       "      <td>Sales-Agent-11</td>\n",
       "      <td>Other Locations</td>\n",
       "      <td>Mode-5</td>\n",
       "      <td>Open</td>\n",
       "    </tr>\n",
       "    <tr>\n",
       "      <th>1</th>\n",
       "      <td>Website</td>\n",
       "      <td>Sales-Agent-10</td>\n",
       "      <td>Other Locations</td>\n",
       "      <td>Mode-5</td>\n",
       "      <td>Open</td>\n",
       "    </tr>\n",
       "    <tr>\n",
       "      <th>2</th>\n",
       "      <td>Website</td>\n",
       "      <td>Sales-Agent-10</td>\n",
       "      <td>Other Locations</td>\n",
       "      <td>Mode-5</td>\n",
       "      <td>Open</td>\n",
       "    </tr>\n",
       "    <tr>\n",
       "      <th>3</th>\n",
       "      <td>Website</td>\n",
       "      <td>Sales-Agent-10</td>\n",
       "      <td>Other Locations</td>\n",
       "      <td>Mode-5</td>\n",
       "      <td>Open</td>\n",
       "    </tr>\n",
       "    <tr>\n",
       "      <th>4</th>\n",
       "      <td>Website</td>\n",
       "      <td>Sales-Agent-10</td>\n",
       "      <td>Other Locations</td>\n",
       "      <td>Mode-5</td>\n",
       "      <td>Open</td>\n",
       "    </tr>\n",
       "  </tbody>\n",
       "</table>\n",
       "</div>"
      ],
      "text/plain": [
       "    Source     Sales_Agent         Location Delivery_Mode Status\n",
       "0  Website  Sales-Agent-11  Other Locations        Mode-5   Open\n",
       "1  Website  Sales-Agent-10  Other Locations        Mode-5   Open\n",
       "2  Website  Sales-Agent-10  Other Locations        Mode-5   Open\n",
       "3  Website  Sales-Agent-10  Other Locations        Mode-5   Open\n",
       "4  Website  Sales-Agent-10  Other Locations        Mode-5   Open"
      ]
     },
     "execution_count": 34,
     "metadata": {},
     "output_type": "execute_result"
    }
   ],
   "source": [
    "data.head()"
   ]
  },
  {
   "cell_type": "code",
   "execution_count": 35,
   "id": "1faed67f",
   "metadata": {},
   "outputs": [
    {
     "data": {
      "text/plain": [
       "Other Locations    2558\n",
       "Bangalore          2084\n",
       "Chennai             909\n",
       "Hyderabad           528\n",
       "Delhi               471\n",
       "Mumbai              402\n",
       "Pune                142\n",
       "UAE                  79\n",
       "Trivandrum           58\n",
       "Kolkata              55\n",
       "USA                  45\n",
       "UK                   41\n",
       "AUSTRALIA            25\n",
       "Singapore            17\n",
       "Malaysia              4\n",
       "EUROPE                3\n",
       "Howrah                1\n",
       "Name: Location, dtype: int64"
      ]
     },
     "execution_count": 35,
     "metadata": {},
     "output_type": "execute_result"
    }
   ],
   "source": [
    "data.Location.value_counts()"
   ]
  },
  {
   "cell_type": "code",
   "execution_count": 36,
   "id": "3657e72b",
   "metadata": {},
   "outputs": [],
   "source": [
    "#Combining the features of Location, so that the feature count will be reduced\n",
    "data.loc[data['Location']=='UAE','Location']='International'\n",
    "data.loc[data['Location']=='USA','Location']='International'\n",
    "data.loc[data['Location']=='UK','Location']='International'\n",
    "data.loc[data['Location']=='AUSTRALIA','Location']='International'\n",
    "data.loc[data['Location']=='Singapore','Location']='International'\n",
    "data.loc[data['Location']=='Malaysia','Location']='International'\n",
    "data.loc[data['Location']=='EUROPE','Location']='International'"
   ]
  },
  {
   "cell_type": "code",
   "execution_count": 37,
   "id": "ffb41c8b",
   "metadata": {},
   "outputs": [],
   "source": [
    "#Combining the features of Location, so that the feature count will be reduced\n",
    "data.loc[data['Location']=='Bangalore','Location']='India'\n",
    "data.loc[data['Location']=='Chennai','Location']='India'\n",
    "data.loc[data['Location']=='Hyderabad','Location']='India'\n",
    "data.loc[data['Location']=='Delhi','Location']='India'\n",
    "data.loc[data['Location']=='Mumbai','Location']='India'\n",
    "data.loc[data['Location']=='Pune','Location']='India'\n",
    "data.loc[data['Location']=='Trivandrum','Location']='India'\n",
    "data.loc[data['Location']=='Kokata','Location']='India'\n",
    "data.loc[data['Location']=='Howrah','Location']='India'\n",
    "data.loc[data['Location']=='Kolkata','Location']='India'"
   ]
  },
  {
   "cell_type": "code",
   "execution_count": 38,
   "id": "ccbcada4",
   "metadata": {},
   "outputs": [
    {
     "data": {
      "text/plain": [
       "India              4650\n",
       "Other Locations    2558\n",
       "International       214\n",
       "Name: Location, dtype: int64"
      ]
     },
     "execution_count": 38,
     "metadata": {},
     "output_type": "execute_result"
    }
   ],
   "source": [
    "data.Location.value_counts()"
   ]
  },
  {
   "cell_type": "code",
   "execution_count": 39,
   "id": "5640c417",
   "metadata": {},
   "outputs": [
    {
     "data": {
      "text/plain": [
       "0"
      ]
     },
     "execution_count": 39,
     "metadata": {},
     "output_type": "execute_result"
    }
   ],
   "source": [
    "data.Sales_Agent.isnull().sum()"
   ]
  },
  {
   "cell_type": "code",
   "execution_count": 40,
   "id": "c57c8836",
   "metadata": {
    "scrolled": true
   },
   "outputs": [
    {
     "data": {
      "text/plain": [
       "Junk Lead               1536\n",
       "Not Responding          1129\n",
       "CONVERTED                834\n",
       "Just Enquiry             760\n",
       "Potential                708\n",
       "Long Term                646\n",
       "In Progress Positive     643\n",
       "In Progress Negative     626\n",
       "LOST                     440\n",
       "Open                      82\n",
       "converted                 18\n",
       "Name: Status, dtype: int64"
      ]
     },
     "execution_count": 40,
     "metadata": {},
     "output_type": "execute_result"
    }
   ],
   "source": [
    "data.Status.value_counts()"
   ]
  },
  {
   "cell_type": "code",
   "execution_count": 41,
   "id": "51af1875",
   "metadata": {},
   "outputs": [],
   "source": [
    "#Considering the features of 'Status' column into HIGH potential and LOW potential\n",
    "data.loc[data['Status']=='Junk Lead','Status']='low_potential'\n",
    "data.loc[data['Status']=='Not Responding','Status']='low_potential'\n",
    "data.loc[data['Status']=='CONVERTED','Status']='high_potential'\n",
    "data.loc[data['Status']=='Just Enquiry','Status']='low_potential'\n",
    "data.loc[data['Status']=='Potential','Status']='high_potential'\n",
    "data.loc[data['Status']=='Long Term','Status']='high_potential'\n",
    "data.loc[data['Status']=='In Progress Positive','Status']='high_potential'\n",
    "data.loc[data['Status']=='In Progress Negative','Status']='low_potential'\n",
    "data.loc[data['Status']=='LOST','Status']='low_potential'\n",
    "data.loc[data['Status']=='Open','Status']='high_potential'\n",
    "data.loc[data['Status']=='converted','Status']='high_potential'"
   ]
  },
  {
   "cell_type": "code",
   "execution_count": 42,
   "id": "088432fc",
   "metadata": {
    "scrolled": true
   },
   "outputs": [
    {
     "data": {
      "text/plain": [
       "low_potential     4491\n",
       "high_potential    2931\n",
       "Name: Status, dtype: int64"
      ]
     },
     "execution_count": 42,
     "metadata": {},
     "output_type": "execute_result"
    }
   ],
   "source": [
    "data.Status.value_counts()"
   ]
  },
  {
   "cell_type": "code",
   "execution_count": 43,
   "id": "53f6b17f",
   "metadata": {},
   "outputs": [],
   "source": [
    "# Now conerting the categorical features into numerical one by labelencoder and OneHotEncoder techinque"
   ]
  },
  {
   "cell_type": "code",
   "execution_count": 44,
   "id": "3e4cfd6f",
   "metadata": {},
   "outputs": [],
   "source": [
    "data['Status']=data['Status'].map({'low_potential':0,'high_potential':1})"
   ]
  },
  {
   "cell_type": "code",
   "execution_count": 45,
   "id": "a5553077",
   "metadata": {},
   "outputs": [],
   "source": [
    "#Now applying labelencoder technique to column 'Sales_Agent' and 'Delivery_Mode' as it not having relation with the target variable\n",
    "from sklearn.preprocessing import LabelEncoder\n",
    "lc=LabelEncoder()\n",
    "data['Source']=lc.fit_transform(data['Source'])\n",
    "data['Location']=lc.fit_transform(data['Location'])\n",
    "data['Sales_Agent']=lc.fit_transform(data['Sales_Agent'])\n",
    "data['Delivery_Mode']=lc.fit_transform(data['Delivery_Mode'])"
   ]
  },
  {
   "cell_type": "code",
   "execution_count": 46,
   "id": "5ac83d1a",
   "metadata": {},
   "outputs": [
    {
     "name": "stdout",
     "output_type": "stream",
     "text": [
      "<class 'pandas.core.frame.DataFrame'>\n",
      "RangeIndex: 7422 entries, 0 to 7421\n",
      "Data columns (total 5 columns):\n",
      " #   Column         Non-Null Count  Dtype\n",
      "---  ------         --------------  -----\n",
      " 0   Source         7422 non-null   int32\n",
      " 1   Sales_Agent    7422 non-null   int32\n",
      " 2   Location       7422 non-null   int32\n",
      " 3   Delivery_Mode  7422 non-null   int32\n",
      " 4   Status         7422 non-null   int64\n",
      "dtypes: int32(4), int64(1)\n",
      "memory usage: 174.1 KB\n"
     ]
    }
   ],
   "source": [
    "data.info()"
   ]
  },
  {
   "cell_type": "code",
   "execution_count": 47,
   "id": "52d88dc2",
   "metadata": {},
   "outputs": [
    {
     "data": {
      "text/html": [
       "<div>\n",
       "<style scoped>\n",
       "    .dataframe tbody tr th:only-of-type {\n",
       "        vertical-align: middle;\n",
       "    }\n",
       "\n",
       "    .dataframe tbody tr th {\n",
       "        vertical-align: top;\n",
       "    }\n",
       "\n",
       "    .dataframe thead th {\n",
       "        text-align: right;\n",
       "    }\n",
       "</style>\n",
       "<table border=\"1\" class=\"dataframe\">\n",
       "  <thead>\n",
       "    <tr style=\"text-align: right;\">\n",
       "      <th></th>\n",
       "      <th>Source</th>\n",
       "      <th>Sales_Agent</th>\n",
       "      <th>Location</th>\n",
       "      <th>Delivery_Mode</th>\n",
       "      <th>Status</th>\n",
       "    </tr>\n",
       "  </thead>\n",
       "  <tbody>\n",
       "    <tr>\n",
       "      <th>0</th>\n",
       "      <td>2</td>\n",
       "      <td>2</td>\n",
       "      <td>2</td>\n",
       "      <td>4</td>\n",
       "      <td>1</td>\n",
       "    </tr>\n",
       "    <tr>\n",
       "      <th>1</th>\n",
       "      <td>2</td>\n",
       "      <td>1</td>\n",
       "      <td>2</td>\n",
       "      <td>4</td>\n",
       "      <td>1</td>\n",
       "    </tr>\n",
       "    <tr>\n",
       "      <th>2</th>\n",
       "      <td>2</td>\n",
       "      <td>1</td>\n",
       "      <td>2</td>\n",
       "      <td>4</td>\n",
       "      <td>1</td>\n",
       "    </tr>\n",
       "    <tr>\n",
       "      <th>3</th>\n",
       "      <td>2</td>\n",
       "      <td>1</td>\n",
       "      <td>2</td>\n",
       "      <td>4</td>\n",
       "      <td>1</td>\n",
       "    </tr>\n",
       "    <tr>\n",
       "      <th>4</th>\n",
       "      <td>2</td>\n",
       "      <td>1</td>\n",
       "      <td>2</td>\n",
       "      <td>4</td>\n",
       "      <td>1</td>\n",
       "    </tr>\n",
       "    <tr>\n",
       "      <th>...</th>\n",
       "      <td>...</td>\n",
       "      <td>...</td>\n",
       "      <td>...</td>\n",
       "      <td>...</td>\n",
       "      <td>...</td>\n",
       "    </tr>\n",
       "    <tr>\n",
       "      <th>7417</th>\n",
       "      <td>0</td>\n",
       "      <td>8</td>\n",
       "      <td>0</td>\n",
       "      <td>3</td>\n",
       "      <td>0</td>\n",
       "    </tr>\n",
       "    <tr>\n",
       "      <th>7418</th>\n",
       "      <td>0</td>\n",
       "      <td>3</td>\n",
       "      <td>2</td>\n",
       "      <td>4</td>\n",
       "      <td>0</td>\n",
       "    </tr>\n",
       "    <tr>\n",
       "      <th>7419</th>\n",
       "      <td>1</td>\n",
       "      <td>2</td>\n",
       "      <td>0</td>\n",
       "      <td>0</td>\n",
       "      <td>0</td>\n",
       "    </tr>\n",
       "    <tr>\n",
       "      <th>7420</th>\n",
       "      <td>2</td>\n",
       "      <td>6</td>\n",
       "      <td>2</td>\n",
       "      <td>0</td>\n",
       "      <td>0</td>\n",
       "    </tr>\n",
       "    <tr>\n",
       "      <th>7421</th>\n",
       "      <td>2</td>\n",
       "      <td>5</td>\n",
       "      <td>0</td>\n",
       "      <td>0</td>\n",
       "      <td>1</td>\n",
       "    </tr>\n",
       "  </tbody>\n",
       "</table>\n",
       "<p>7422 rows × 5 columns</p>\n",
       "</div>"
      ],
      "text/plain": [
       "      Source  Sales_Agent  Location  Delivery_Mode  Status\n",
       "0          2            2         2              4       1\n",
       "1          2            1         2              4       1\n",
       "2          2            1         2              4       1\n",
       "3          2            1         2              4       1\n",
       "4          2            1         2              4       1\n",
       "...      ...          ...       ...            ...     ...\n",
       "7417       0            8         0              3       0\n",
       "7418       0            3         2              4       0\n",
       "7419       1            2         0              0       0\n",
       "7420       2            6         2              0       0\n",
       "7421       2            5         0              0       1\n",
       "\n",
       "[7422 rows x 5 columns]"
      ]
     },
     "execution_count": 47,
     "metadata": {},
     "output_type": "execute_result"
    }
   ],
   "source": [
    "data"
   ]
  },
  {
   "cell_type": "code",
   "execution_count": 48,
   "id": "b7e03641",
   "metadata": {},
   "outputs": [
    {
     "data": {
      "image/png": "[encoded data removed]",
      "text/plain": [
       "<Figure size 2500x2500 with 5 Axes>"
      ]
     },
     "metadata": {},
     "output_type": "display_data"
    }
   ],
   "source": [
    "# Plotting how every categorical feature correlate with the \"target\"\n",
    "plt.figure(figsize=(25,25), facecolor='white')\n",
    "plotnumber = 1\n",
    "\n",
    "for column in data:\n",
    "    if plotnumber<=6 :\n",
    "        ax = plt.subplot(3,2,plotnumber)\n",
    "        sns.countplot(x=data[column].dropna(axis=0)\n",
    "                        ,hue=data.Status)\n",
    "        plt.xlabel(column,fontsize=20)\n",
    "        plt.ylabel('Status',fontsize=20)\n",
    "    plotnumber+=1\n",
    "plt.tight_layout()"
   ]
  },
  {
   "cell_type": "markdown",
   "id": "5f5af0c4",
   "metadata": {},
   "source": [
    "## Bivariate Analysis:\n",
    "\n",
    "1. Source of the Sales is most important in case of sales as the customers belonging to that location must be aware of trending products and supplies\n",
    "2. Sales Agent must have convincing skillls, as you see agent 11 have more number of high potential than others, also agent2,5,6 working hard neglecting the case that they have low potential. like wise the agents must have training sessions according to their progress report.\n",
    "3. Location makes a sense when you have a sales deal, agents have to be alloted in such a way that they must be knowing local languages where they are making sales deal\n",
    "4. Delivery mode must be quick and fast as the customer feels trust when you give your service as per your said words, delaying the delivery will let the customer not to deal again in future."
   ]
  },
  {
   "cell_type": "markdown",
   "id": "b7741ce7",
   "metadata": {},
   "source": [
    "## Model Creation and Evaluation:"
   ]
  },
  {
   "cell_type": "code",
   "execution_count": 49,
   "id": "aa749702",
   "metadata": {},
   "outputs": [],
   "source": [
    "# Defining dependent and independent variable\n",
    "X=data.iloc[:,:-1]      #Independent variable\n",
    "y=data.Status           #Dependent variable"
   ]
  },
  {
   "cell_type": "code",
   "execution_count": 50,
   "id": "3f724d01",
   "metadata": {},
   "outputs": [
    {
     "data": {
      "text/html": [
       "<div>\n",
       "<style scoped>\n",
       "    .dataframe tbody tr th:only-of-type {\n",
       "        vertical-align: middle;\n",
       "    }\n",
       "\n",
       "    .dataframe tbody tr th {\n",
       "        vertical-align: top;\n",
       "    }\n",
       "\n",
       "    .dataframe thead th {\n",
       "        text-align: right;\n",
       "    }\n",
       "</style>\n",
       "<table border=\"1\" class=\"dataframe\">\n",
       "  <thead>\n",
       "    <tr style=\"text-align: right;\">\n",
       "      <th></th>\n",
       "      <th>Source</th>\n",
       "      <th>Sales_Agent</th>\n",
       "      <th>Location</th>\n",
       "      <th>Delivery_Mode</th>\n",
       "    </tr>\n",
       "  </thead>\n",
       "  <tbody>\n",
       "    <tr>\n",
       "      <th>0</th>\n",
       "      <td>2</td>\n",
       "      <td>2</td>\n",
       "      <td>2</td>\n",
       "      <td>4</td>\n",
       "    </tr>\n",
       "    <tr>\n",
       "      <th>1</th>\n",
       "      <td>2</td>\n",
       "      <td>1</td>\n",
       "      <td>2</td>\n",
       "      <td>4</td>\n",
       "    </tr>\n",
       "    <tr>\n",
       "      <th>2</th>\n",
       "      <td>2</td>\n",
       "      <td>1</td>\n",
       "      <td>2</td>\n",
       "      <td>4</td>\n",
       "    </tr>\n",
       "    <tr>\n",
       "      <th>3</th>\n",
       "      <td>2</td>\n",
       "      <td>1</td>\n",
       "      <td>2</td>\n",
       "      <td>4</td>\n",
       "    </tr>\n",
       "    <tr>\n",
       "      <th>4</th>\n",
       "      <td>2</td>\n",
       "      <td>1</td>\n",
       "      <td>2</td>\n",
       "      <td>4</td>\n",
       "    </tr>\n",
       "    <tr>\n",
       "      <th>...</th>\n",
       "      <td>...</td>\n",
       "      <td>...</td>\n",
       "      <td>...</td>\n",
       "      <td>...</td>\n",
       "    </tr>\n",
       "    <tr>\n",
       "      <th>7417</th>\n",
       "      <td>0</td>\n",
       "      <td>8</td>\n",
       "      <td>0</td>\n",
       "      <td>3</td>\n",
       "    </tr>\n",
       "    <tr>\n",
       "      <th>7418</th>\n",
       "      <td>0</td>\n",
       "      <td>3</td>\n",
       "      <td>2</td>\n",
       "      <td>4</td>\n",
       "    </tr>\n",
       "    <tr>\n",
       "      <th>7419</th>\n",
       "      <td>1</td>\n",
       "      <td>2</td>\n",
       "      <td>0</td>\n",
       "      <td>0</td>\n",
       "    </tr>\n",
       "    <tr>\n",
       "      <th>7420</th>\n",
       "      <td>2</td>\n",
       "      <td>6</td>\n",
       "      <td>2</td>\n",
       "      <td>0</td>\n",
       "    </tr>\n",
       "    <tr>\n",
       "      <th>7421</th>\n",
       "      <td>2</td>\n",
       "      <td>5</td>\n",
       "      <td>0</td>\n",
       "      <td>0</td>\n",
       "    </tr>\n",
       "  </tbody>\n",
       "</table>\n",
       "<p>7422 rows × 4 columns</p>\n",
       "</div>"
      ],
      "text/plain": [
       "      Source  Sales_Agent  Location  Delivery_Mode\n",
       "0          2            2         2              4\n",
       "1          2            1         2              4\n",
       "2          2            1         2              4\n",
       "3          2            1         2              4\n",
       "4          2            1         2              4\n",
       "...      ...          ...       ...            ...\n",
       "7417       0            8         0              3\n",
       "7418       0            3         2              4\n",
       "7419       1            2         0              0\n",
       "7420       2            6         2              0\n",
       "7421       2            5         0              0\n",
       "\n",
       "[7422 rows x 4 columns]"
      ]
     },
     "execution_count": 50,
     "metadata": {},
     "output_type": "execute_result"
    }
   ],
   "source": [
    "X"
   ]
  },
  {
   "cell_type": "code",
   "execution_count": 51,
   "id": "0ff6f903",
   "metadata": {
    "scrolled": false
   },
   "outputs": [
    {
     "data": {
      "text/plain": [
       "0       1\n",
       "1       1\n",
       "2       1\n",
       "3       1\n",
       "4       1\n",
       "       ..\n",
       "7417    0\n",
       "7418    0\n",
       "7419    0\n",
       "7420    0\n",
       "7421    1\n",
       "Name: Status, Length: 7422, dtype: int64"
      ]
     },
     "execution_count": 51,
     "metadata": {},
     "output_type": "execute_result"
    }
   ],
   "source": [
    "y"
   ]
  },
  {
   "cell_type": "code",
   "execution_count": 52,
   "id": "19f26290",
   "metadata": {},
   "outputs": [],
   "source": [
    "## scaling the data as all features seems to be near to normal distribution\n",
    "from sklearn.preprocessing import StandardScaler \n",
    "scalar = StandardScaler()## objet creation\n",
    "X_scaled = scalar.fit_transform(X)"
   ]
  },
  {
   "cell_type": "code",
   "execution_count": 53,
   "id": "954c5ec1",
   "metadata": {},
   "outputs": [
    {
     "data": {
      "text/plain": [
       "array([[ 1.47569609, -1.38768994,  1.35746352,  1.08745848],\n",
       "       [ 1.47569609, -1.73649226,  1.35746352,  1.08745848],\n",
       "       [ 1.47569609, -1.73649226,  1.35746352,  1.08745848],\n",
       "       ...,\n",
       "       [ 0.20020798, -1.38768994, -0.76048776, -1.21233262],\n",
       "       [ 1.47569609,  0.00751932,  1.35746352, -1.21233262],\n",
       "       [ 1.47569609, -0.341283  , -0.76048776, -1.21233262]])"
      ]
     },
     "execution_count": 53,
     "metadata": {},
     "output_type": "execute_result"
    }
   ],
   "source": [
    "X_scaled"
   ]
  },
  {
   "cell_type": "code",
   "execution_count": 54,
   "id": "0c24052c",
   "metadata": {},
   "outputs": [],
   "source": [
    "from sklearn.model_selection import train_test_split\n",
    "X_train,X_test,y_train,y_test=train_test_split(X_scaled,y,test_size=0.25,random_state=42)"
   ]
  },
  {
   "cell_type": "code",
   "execution_count": 55,
   "id": "6e654969",
   "metadata": {},
   "outputs": [],
   "source": [
    "## Balancing the data\n",
    "from imblearn.over_sampling import SMOTE\n",
    "smote = SMOTE()\n",
    "X_train_smote, y_train_smote = smote.fit_resample(X_train,\n",
    "                                                  y_train)"
   ]
  },
  {
   "cell_type": "code",
   "execution_count": 56,
   "id": "9c5b9c70",
   "metadata": {},
   "outputs": [
    {
     "name": "stdout",
     "output_type": "stream",
     "text": [
      "Actual Classes Counter({0: 3380, 1: 2186})\n",
      "SMOTE Classes Counter({0: 3380, 1: 3380})\n"
     ]
    }
   ],
   "source": [
    "## Checking counts of y_train\n",
    "from collections import Counter\n",
    "print(\"Actual Classes\",Counter(y_train))\n",
    "print(\"SMOTE Classes\",Counter(y_train_smote))"
   ]
  },
  {
   "cell_type": "markdown",
   "id": "4155f996",
   "metadata": {},
   "source": [
    "## Logistic Regression:"
   ]
  },
  {
   "cell_type": "code",
   "execution_count": 57,
   "id": "d35d6244",
   "metadata": {},
   "outputs": [
    {
     "data": {
      "text/plain": [
       "LogisticRegression()"
      ]
     },
     "execution_count": 57,
     "metadata": {},
     "output_type": "execute_result"
    }
   ],
   "source": [
    "##Model creation\n",
    "from sklearn.linear_model import LogisticRegression\n",
    "log_reg = LogisticRegression()\n",
    "\n",
    "log_reg.fit(X_train_smote,y_train_smote)"
   ]
  },
  {
   "cell_type": "code",
   "execution_count": 58,
   "id": "ea9e28c7",
   "metadata": {},
   "outputs": [],
   "source": [
    "y_pred = log_reg.predict(X_test)"
   ]
  },
  {
   "cell_type": "code",
   "execution_count": 59,
   "id": "0a9cc5dd",
   "metadata": {},
   "outputs": [
    {
     "data": {
      "text/plain": [
       "0.6449353448275862"
      ]
     },
     "execution_count": 59,
     "metadata": {},
     "output_type": "execute_result"
    }
   ],
   "source": [
    "#calculating the accuracy\n",
    "from sklearn.metrics import accuracy_score,auc, confusion_matrix,precision_score,recall_score,f1_score,classification_report,roc_auc_score,roc_curve\n",
    "accuracy = accuracy_score(y_test,y_pred)\n",
    "accuracy"
   ]
  },
  {
   "cell_type": "code",
   "execution_count": 60,
   "id": "6d7b484e",
   "metadata": {},
   "outputs": [
    {
     "name": "stdout",
     "output_type": "stream",
     "text": [
      "              precision    recall  f1-score   support\n",
      "\n",
      "           0       0.77      0.58      0.66      1111\n",
      "           1       0.54      0.74      0.63       745\n",
      "\n",
      "    accuracy                           0.64      1856\n",
      "   macro avg       0.66      0.66      0.64      1856\n",
      "weighted avg       0.68      0.64      0.65      1856\n",
      "\n"
     ]
    }
   ],
   "source": [
    "#Classification Report\n",
    "Report=classification_report(y_test,y_pred)\n",
    "print(Report)"
   ]
  },
  {
   "cell_type": "code",
   "execution_count": 61,
   "id": "89556505",
   "metadata": {},
   "outputs": [
    {
     "name": "stdout",
     "output_type": "stream",
     "text": [
      "[0.67715973 0.74613336 0.67333266 0.66596228 0.67370037]\n",
      "Cross validation Score: 0.6872576816182818\n",
      "Std : 0.029663158810779282\n"
     ]
    }
   ],
   "source": [
    "#Cross-Validation score\n",
    "from sklearn.model_selection import cross_val_score\n",
    "scores = cross_val_score(log_reg,X_scaled,y,cv=5,scoring='roc_auc')\n",
    "print(scores)\n",
    "print(\"Cross validation Score:\",scores.mean())\n",
    "print(\"Std :\",scores.std())\n",
    "#std of < 0.05 is good. "
   ]
  },
  {
   "cell_type": "markdown",
   "id": "c7968fa2",
   "metadata": {},
   "source": [
    "## Decision Tree:"
   ]
  },
  {
   "cell_type": "code",
   "execution_count": 62,
   "id": "1bfc9dde",
   "metadata": {},
   "outputs": [],
   "source": [
    "from sklearn.tree import DecisionTreeClassifier\n",
    "dt=DecisionTreeClassifier(max_depth=19)\n",
    "dt.fit(X_train_smote,y_train_smote)\n",
    "y_hat=dt.predict(X_test)"
   ]
  },
  {
   "cell_type": "code",
   "execution_count": 63,
   "id": "c89381fa",
   "metadata": {},
   "outputs": [
    {
     "data": {
      "text/plain": [
       "0.6990657563780094"
      ]
     },
     "execution_count": 63,
     "metadata": {},
     "output_type": "execute_result"
    }
   ],
   "source": [
    "## Evalauting the model\n",
    "from sklearn.metrics import accuracy_score,classification_report,f1_score\n",
    "## Training score\n",
    "y_train_predict=dt.predict(X_train)\n",
    "acc_train=accuracy_score(y_train,y_train_predict)\n",
    "acc_train"
   ]
  },
  {
   "cell_type": "code",
   "execution_count": 64,
   "id": "eec7137c",
   "metadata": {},
   "outputs": [],
   "source": [
    "y_pred=dt.predict(X_test)"
   ]
  },
  {
   "cell_type": "code",
   "execution_count": 65,
   "id": "c00c6d4d",
   "metadata": {},
   "outputs": [
    {
     "data": {
      "text/plain": [
       "0.643312101910828"
      ]
     },
     "execution_count": 65,
     "metadata": {},
     "output_type": "execute_result"
    }
   ],
   "source": [
    "f_score=f1_score(y_test,y_pred)\n",
    "f_score"
   ]
  },
  {
   "cell_type": "code",
   "execution_count": 66,
   "id": "99d4536d",
   "metadata": {},
   "outputs": [
    {
     "name": "stdout",
     "output_type": "stream",
     "text": [
      "[0.73674226 0.73732854 0.7155368  0.71938209 0.70361326]\n",
      "Cross validation Score: 0.722520592185971\n",
      "Std : 0.012943275354989863\n"
     ]
    }
   ],
   "source": [
    "#Cross-Validation score\n",
    "from sklearn.model_selection import cross_val_score\n",
    "scores = cross_val_score(dt,X_scaled,y,cv=5,scoring='roc_auc')\n",
    "print(scores)\n",
    "print(\"Cross validation Score:\",scores.mean())\n",
    "print(\"Std :\",scores.std())\n",
    "#std of < 0.05 is good. "
   ]
  },
  {
   "cell_type": "code",
   "execution_count": 67,
   "id": "c82d4bba",
   "metadata": {},
   "outputs": [
    {
     "name": "stdout",
     "output_type": "stream",
     "text": [
      "Fitting 3 folds for each of 4332 candidates, totalling 12996 fits\n",
      "Best paramters: {'criterion': 'gini', 'max_depth': 2, 'min_samples_leaf': 1, 'min_samples_split': 2, 'splitter': 'random'})\n"
     ]
    }
   ],
   "source": [
    "# Hyperparameter tunning- Grid Search CV\n",
    "from sklearn.model_selection import GridSearchCV\n",
    "params = {\n",
    "    \"criterion\":(\"gini\", \"entropy\"), \n",
    "    \"splitter\":(\"best\", \"random\"), \n",
    "    \"max_depth\":(list(range(1, 20))), \n",
    "    \"min_samples_split\":[2, 3, 4], \n",
    "    \"min_samples_leaf\":list(range(1, 20)), \n",
    "}\n",
    "\n",
    "\n",
    "tree_clf = DecisionTreeClassifier(random_state=3)\n",
    "tree_cv = GridSearchCV(tree_clf, params, scoring=\"f1\", n_jobs=-1, verbose=1, cv=3)\n",
    "tree_cv.fit(X_train,y_train)\n",
    "best_params = tree_cv.best_params_\n",
    "print(f\"Best paramters: {best_params})\")\n"
   ]
  },
  {
   "cell_type": "code",
   "execution_count": 68,
   "id": "2495cedb",
   "metadata": {},
   "outputs": [
    {
     "data": {
      "text/plain": [
       "{'criterion': 'gini',\n",
       " 'max_depth': 2,\n",
       " 'min_samples_leaf': 1,\n",
       " 'min_samples_split': 2,\n",
       " 'splitter': 'random'}"
      ]
     },
     "execution_count": 68,
     "metadata": {},
     "output_type": "execute_result"
    }
   ],
   "source": [
    "tree_cv.best_params_"
   ]
  },
  {
   "cell_type": "code",
   "execution_count": 69,
   "id": "c71dc806",
   "metadata": {},
   "outputs": [
    {
     "data": {
      "text/plain": [
       "0.5610990167602251"
      ]
     },
     "execution_count": 69,
     "metadata": {},
     "output_type": "execute_result"
    }
   ],
   "source": [
    "tree_cv.best_score_"
   ]
  },
  {
   "cell_type": "code",
   "execution_count": 70,
   "id": "f1d83951",
   "metadata": {},
   "outputs": [],
   "source": [
    "dt1=DecisionTreeClassifier(criterion='gini',max_depth=2,min_samples_leaf=1,min_samples_split=2,splitter='best')"
   ]
  },
  {
   "cell_type": "code",
   "execution_count": 71,
   "id": "75b1c13a",
   "metadata": {},
   "outputs": [
    {
     "data": {
      "text/plain": [
       "DecisionTreeClassifier(max_depth=2)"
      ]
     },
     "execution_count": 71,
     "metadata": {},
     "output_type": "execute_result"
    }
   ],
   "source": [
    "dt1.fit(X_train,y_train)"
   ]
  },
  {
   "cell_type": "code",
   "execution_count": 72,
   "id": "1286ccc4",
   "metadata": {},
   "outputs": [],
   "source": [
    "y_hat1=dt1.predict(X_test)"
   ]
  },
  {
   "cell_type": "code",
   "execution_count": 73,
   "id": "a4913ca8",
   "metadata": {},
   "outputs": [
    {
     "name": "stdout",
     "output_type": "stream",
     "text": [
      "              precision    recall  f1-score   support\n",
      "\n",
      "           0       0.64      0.96      0.77      1111\n",
      "           1       0.78      0.19      0.30       745\n",
      "\n",
      "    accuracy                           0.65      1856\n",
      "   macro avg       0.71      0.58      0.53      1856\n",
      "weighted avg       0.69      0.65      0.58      1856\n",
      "\n"
     ]
    }
   ],
   "source": [
    "print(classification_report(y_test,y_hat1))"
   ]
  },
  {
   "cell_type": "markdown",
   "id": "3ed17cf8",
   "metadata": {},
   "source": [
    "## RandomForestClassifier:"
   ]
  },
  {
   "cell_type": "code",
   "execution_count": 74,
   "id": "0756da9f",
   "metadata": {},
   "outputs": [
    {
     "data": {
      "text/plain": [
       "RandomForestClassifier()"
      ]
     },
     "execution_count": 74,
     "metadata": {},
     "output_type": "execute_result"
    }
   ],
   "source": [
    "from sklearn.ensemble import RandomForestClassifier\n",
    "\n",
    "rf_clf = RandomForestClassifier(n_estimators=100)\n",
    "rf_clf.fit(X_train_smote,y_train_smote)"
   ]
  },
  {
   "cell_type": "code",
   "execution_count": 75,
   "id": "b6aaada4",
   "metadata": {},
   "outputs": [],
   "source": [
    "y_predict=rf_clf.predict(X_test)"
   ]
  },
  {
   "cell_type": "code",
   "execution_count": 76,
   "id": "41438182",
   "metadata": {},
   "outputs": [
    {
     "name": "stdout",
     "output_type": "stream",
     "text": [
      "              precision    recall  f1-score   support\n",
      "\n",
      "           0       0.77      0.69      0.73      1111\n",
      "           1       0.60      0.70      0.65       745\n",
      "\n",
      "    accuracy                           0.69      1856\n",
      "   macro avg       0.69      0.69      0.69      1856\n",
      "weighted avg       0.71      0.69      0.70      1856\n",
      "\n"
     ]
    }
   ],
   "source": [
    "from sklearn.metrics import accuracy_score,classification_report,f1_score\n",
    "print(classification_report(y_test,y_predict))"
   ]
  },
  {
   "cell_type": "code",
   "execution_count": 77,
   "id": "1f505d75",
   "metadata": {},
   "outputs": [
    {
     "data": {
      "text/plain": [
       "0.6472049689440994"
      ]
     },
     "execution_count": 77,
     "metadata": {},
     "output_type": "execute_result"
    }
   ],
   "source": [
    "f_Score=f1_score(y_test,y_predict)\n",
    "f_Score"
   ]
  },
  {
   "cell_type": "markdown",
   "id": "1cb890f8",
   "metadata": {},
   "source": [
    "## Hyperparameter tunning RandomSearch_CV"
   ]
  },
  {
   "cell_type": "code",
   "execution_count": 78,
   "id": "0683d38a",
   "metadata": {},
   "outputs": [
    {
     "name": "stdout",
     "output_type": "stream",
     "text": [
      "Fitting 3 folds for each of 100 candidates, totalling 300 fits\n",
      "Best paramters: {'n_estimators': 600, 'min_samples_split': 10, 'min_samples_leaf': 1, 'max_features': 'sqrt', 'max_depth': 110, 'bootstrap': True})\n"
     ]
    }
   ],
   "source": [
    "from sklearn.model_selection import RandomizedSearchCV\n",
    "\n",
    "n_estimators = [int(x) for x in np.linspace(start=200, stop=2000, num=10)]\n",
    "max_features = ['auto', 'sqrt']\n",
    "max_depth = [int(x) for x in np.linspace(10, 110, num=11)]\n",
    "max_depth.append(None)\n",
    "min_samples_split = [2, 5, 10]\n",
    "min_samples_leaf = [1, 2, 4]\n",
    "bootstrap = [True, False]\n",
    "\n",
    "random_grid = {'n_estimators': n_estimators, 'max_features': max_features,\n",
    "               'max_depth': max_depth, 'min_samples_split': min_samples_split,\n",
    "               'min_samples_leaf': min_samples_leaf, 'bootstrap': bootstrap}\n",
    "\n",
    "rf_clf1 = RandomForestClassifier(random_state=42)\n",
    "\n",
    "rf_cv = RandomizedSearchCV(estimator=rf_clf1, scoring='f1',param_distributions=random_grid, n_iter=100, cv=3, \n",
    "                               verbose=2, random_state=42, n_jobs=-1)\n",
    "\n",
    "rf_cv.fit(X_train, y_train)\n",
    "rf_best_params = rf_cv.best_params_\n",
    "print(f\"Best paramters: {rf_best_params})\")"
   ]
  },
  {
   "cell_type": "code",
   "execution_count": 79,
   "id": "5fc6edd4",
   "metadata": {},
   "outputs": [],
   "source": [
    "rf_clf2 = RandomForestClassifier(**rf_best_params)\n",
    "rf_clf2.fit(X_train, y_train)\n",
    "y_predict=rf_clf2.predict(X_test)\n",
    "f1_score=f1_score(y_test,y_predict)"
   ]
  },
  {
   "cell_type": "code",
   "execution_count": 80,
   "id": "1cdc8723",
   "metadata": {},
   "outputs": [
    {
     "data": {
      "text/plain": [
       "0.5752608047690014"
      ]
     },
     "execution_count": 80,
     "metadata": {},
     "output_type": "execute_result"
    }
   ],
   "source": [
    "f1_score"
   ]
  },
  {
   "cell_type": "markdown",
   "id": "8d523c1a",
   "metadata": {},
   "source": [
    "### We got accuracy-\n",
    "### 1. Logistic Regression : 64.49%\n",
    "### 2. Decision Tree  :  69.42%\n",
    "### 3. Random Forest   : 65.33%"
   ]
  },
  {
   "cell_type": "markdown",
   "id": "088bd0f6",
   "metadata": {},
   "source": [
    "## Conclusion:\n",
    "\n",
    "### 1. The customers belonging to that location must be aware of trending products and supplies hence have to arrange promotional campaign.\n",
    "### 2. The Agents must have training sessions according to their progress report to improve their convincing skills\n",
    "### 3. Agents have to be given a region of sale according to their languages known so that customers feels them as a familiar person\n",
    "### 4. Delivery mode must be quick and fast as the customer feels trust and faith on the company service."
   ]
  }
 ],
 "metadata": {
  "kernelspec": {
   "display_name": "Python 3",
   "language": "python",
   "name": "python3"
  },
  "language_info": {
   "codemirror_mode": {
    "name": "ipython",
    "version": 3
   },
   "file_extension": ".py",
   "mimetype": "text/x-python",
   "name": "python",
   "nbconvert_exporter": "python",
   "pygments_lexer": "ipython3",
   "version": "3.8.8"
  }
 },
 "nbformat": 4,
 "nbformat_minor": 5
}
